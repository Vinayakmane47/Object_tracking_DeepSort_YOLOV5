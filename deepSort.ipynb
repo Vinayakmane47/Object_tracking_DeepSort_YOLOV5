{
  "nbformat": 4,
  "nbformat_minor": 0,
  "metadata": {
    "colab": {
      "provenance": []
    },
    "kernelspec": {
      "name": "python3",
      "display_name": "Python 3"
    },
    "language_info": {
      "name": "python"
    },
    "gpuClass": "standard"
  },
  "cells": [
    {
      "cell_type": "markdown",
      "source": [
        "## Mounting Drive "
      ],
      "metadata": {
        "id": "h-uiSxvkxX1O"
      }
    },
    {
      "cell_type": "code",
      "source": [
        "## Mount the drive \n",
        "from google.colab import drive\n",
        "drive.mount('/content/drive')"
      ],
      "metadata": {
        "id": "2L7g5sOODRog"
      },
      "execution_count": null,
      "outputs": []
    },
    {
      "cell_type": "markdown",
      "source": [
        "## Going in deepsort directory made at gdrive location"
      ],
      "metadata": {
        "id": "I3VX0AlTxd1c"
      }
    },
    {
      "cell_type": "code",
      "source": [
        "%cd /content/drive/MyDrive/Deep_Learning/Computer_Vision/DeepSort"
      ],
      "metadata": {
        "id": "HF7pGtlx7YtE"
      },
      "execution_count": null,
      "outputs": []
    },
    {
      "cell_type": "markdown",
      "source": [
        "## Cloning Deepsort pytorch git repo from url : "
      ],
      "metadata": {
        "id": "UthbgDBlxmq1"
      }
    },
    {
      "cell_type": "code",
      "execution_count": null,
      "metadata": {
        "id": "3UJhVsZf5cod"
      },
      "outputs": [],
      "source": [
        "!git clone https://github.com/ZQPei/deep_sort_pytorch.git"
      ]
    },
    {
      "cell_type": "code",
      "source": [
        "## Going in deesport pytorch dir \n",
        "%cd deep_sort_pytorch/"
      ],
      "metadata": {
        "id": "UVqVjIDP5ur8"
      },
      "execution_count": null,
      "outputs": []
    },
    {
      "cell_type": "code",
      "source": [
        "## Installing requirements : \n",
        "!pip install -r requirements.txt"
      ],
      "metadata": {
        "id": "eLLcjGyw59Oa"
      },
      "execution_count": null,
      "outputs": []
    },
    {
      "cell_type": "code",
      "source": [
        "pwd"
      ],
      "metadata": {
        "colab": {
          "base_uri": "https://localhost:8080/",
          "height": 35
        },
        "id": "a_ylXzDK8IWJ",
        "outputId": "936c6c20-f3e5-4428-e78c-5fe05b32c26d"
      },
      "execution_count": null,
      "outputs": [
        {
          "output_type": "execute_result",
          "data": {
            "text/plain": [
              "'/content/drive/MyDrive/Deep_Learning/Computer_Vision/DeepSort/deep_sort_pytorch'"
            ],
            "application/vnd.google.colaboratory.intrinsic+json": {
              "type": "string"
            }
          },
          "metadata": {},
          "execution_count": 7
        }
      ]
    },
    {
      "cell_type": "code",
      "source": [
        "\n",
        "%cd /content/drive/MyDrive/Deep_Learning/Computer_Vision/DeepSort/deep_sort_pytorch/deep_sort/deep"
      ],
      "metadata": {
        "colab": {
          "base_uri": "https://localhost:8080/"
        },
        "id": "B3WFOYFU97rO",
        "outputId": "674ccfb4-cdc5-48f9-c806-f6b334264c53"
      },
      "execution_count": null,
      "outputs": [
        {
          "output_type": "stream",
          "name": "stdout",
          "text": [
            "/content/drive/MyDrive/Deep_Learning/Computer_Vision/DeepSort/deep_sort_pytorch/deep_sort/deep\n"
          ]
        }
      ]
    },
    {
      "cell_type": "code",
      "source": [
        "## Move uploaded data from deepSort/data to DeepSort/deep_sort_pytorch/deep_sort/deep\n",
        "%cp -r /content/drive/MyDrive/Deep_Learning/Computer_Vision/DeepSort/data /content/drive/MyDrive/Deep_Learning/Computer_Vision/DeepSort/deep_sort_pytorch/deep_sort/deep"
      ],
      "metadata": {
        "id": "DPqiUwjI6PQN"
      },
      "execution_count": null,
      "outputs": []
    },
    {
      "cell_type": "markdown",
      "source": [
        "## Training : "
      ],
      "metadata": {
        "id": "zIT1KxOZyyEQ"
      }
    },
    {
      "cell_type": "code",
      "source": [
        "## Before training change ckpt.t7 to new_ckpt.t7 at 144 line no.\n",
        "!python train.py"
      ],
      "metadata": {
        "colab": {
          "base_uri": "https://localhost:8080/"
        },
        "id": "BsRUQMOW-5II",
        "outputId": "b53601bf-70fb-470c-d58f-dd803ab10f37"
      },
      "execution_count": null,
      "outputs": [
        {
          "output_type": "stream",
          "name": "stdout",
          "text": [
            "\n",
            "Epoch : 1\n",
            "Testing ...\n",
            "[progress:100.0%]time:0.21s Loss:0.00000 Correct:22/22 Acc:100.000%\n",
            "Saving parameters to checkpoint/ckpt.t7\n",
            "\n",
            "Epoch : 2\n",
            "Testing ...\n",
            "[progress:100.0%]time:0.05s Loss:0.00000 Correct:22/22 Acc:100.000%\n",
            "\n",
            "Epoch : 3\n",
            "Testing ...\n",
            "[progress:100.0%]time:0.05s Loss:0.00000 Correct:22/22 Acc:100.000%\n",
            "\n",
            "Epoch : 4\n",
            "Testing ...\n",
            "[progress:100.0%]time:0.05s Loss:0.00000 Correct:22/22 Acc:100.000%\n",
            "\n",
            "Epoch : 5\n",
            "Testing ...\n",
            "[progress:100.0%]time:0.06s Loss:0.00000 Correct:22/22 Acc:100.000%\n",
            "\n",
            "Epoch : 6\n",
            "Testing ...\n",
            "[progress:100.0%]time:0.05s Loss:0.00000 Correct:22/22 Acc:100.000%\n",
            "\n",
            "Epoch : 7\n",
            "Testing ...\n",
            "[progress:100.0%]time:0.05s Loss:0.00000 Correct:22/22 Acc:100.000%\n",
            "\n",
            "Epoch : 8\n",
            "Testing ...\n",
            "[progress:100.0%]time:0.06s Loss:0.00000 Correct:22/22 Acc:100.000%\n",
            "\n",
            "Epoch : 9\n",
            "Testing ...\n",
            "[progress:100.0%]time:0.05s Loss:0.00000 Correct:22/22 Acc:100.000%\n",
            "\n",
            "Epoch : 10\n",
            "Testing ...\n",
            "[progress:100.0%]time:0.05s Loss:0.00000 Correct:22/22 Acc:100.000%\n",
            "\n",
            "Epoch : 11\n",
            "Testing ...\n",
            "[progress:100.0%]time:0.05s Loss:0.00000 Correct:22/22 Acc:100.000%\n",
            "\n",
            "Epoch : 12\n",
            "Testing ...\n",
            "[progress:100.0%]time:0.05s Loss:0.00000 Correct:22/22 Acc:100.000%\n",
            "\n",
            "Epoch : 13\n",
            "Testing ...\n",
            "[progress:100.0%]time:0.05s Loss:0.00000 Correct:22/22 Acc:100.000%\n",
            "\n",
            "Epoch : 14\n",
            "Testing ...\n",
            "[progress:100.0%]time:0.05s Loss:0.00000 Correct:22/22 Acc:100.000%\n",
            "\n",
            "Epoch : 15\n",
            "Testing ...\n",
            "[progress:100.0%]time:0.05s Loss:0.00000 Correct:22/22 Acc:100.000%\n",
            "\n",
            "Epoch : 16\n",
            "Testing ...\n",
            "[progress:100.0%]time:0.05s Loss:0.00000 Correct:22/22 Acc:100.000%\n",
            "\n",
            "Epoch : 17\n",
            "Testing ...\n",
            "[progress:100.0%]time:0.05s Loss:0.00000 Correct:22/22 Acc:100.000%\n",
            "\n",
            "Epoch : 18\n",
            "Testing ...\n",
            "[progress:100.0%]time:0.05s Loss:0.00000 Correct:22/22 Acc:100.000%\n",
            "\n",
            "Epoch : 19\n",
            "Testing ...\n",
            "[progress:100.0%]time:0.06s Loss:0.00000 Correct:22/22 Acc:100.000%\n",
            "\n",
            "Epoch : 20\n",
            "Testing ...\n",
            "[progress:100.0%]time:0.05s Loss:0.00000 Correct:22/22 Acc:100.000%\n",
            "Learning rate adjusted to 0.010000000000000002\n",
            "\n",
            "Epoch : 21\n",
            "Testing ...\n",
            "[progress:100.0%]time:0.06s Loss:0.00000 Correct:22/22 Acc:100.000%\n",
            "\n",
            "Epoch : 22\n",
            "Testing ...\n",
            "[progress:100.0%]time:0.05s Loss:0.00000 Correct:22/22 Acc:100.000%\n",
            "\n",
            "Epoch : 23\n",
            "Testing ...\n",
            "[progress:100.0%]time:0.05s Loss:0.00000 Correct:22/22 Acc:100.000%\n",
            "\n",
            "Epoch : 24\n",
            "Testing ...\n",
            "[progress:100.0%]time:0.05s Loss:0.00000 Correct:22/22 Acc:100.000%\n",
            "\n",
            "Epoch : 25\n",
            "Testing ...\n",
            "[progress:100.0%]time:0.05s Loss:0.00000 Correct:22/22 Acc:100.000%\n",
            "\n",
            "Epoch : 26\n",
            "Testing ...\n",
            "[progress:100.0%]time:0.05s Loss:0.00000 Correct:22/22 Acc:100.000%\n",
            "\n",
            "Epoch : 27\n",
            "Testing ...\n",
            "[progress:100.0%]time:0.05s Loss:0.00000 Correct:22/22 Acc:100.000%\n",
            "\n",
            "Epoch : 28\n",
            "Testing ...\n",
            "[progress:100.0%]time:0.05s Loss:0.00000 Correct:22/22 Acc:100.000%\n",
            "\n",
            "Epoch : 29\n",
            "Testing ...\n",
            "[progress:100.0%]time:0.06s Loss:0.00000 Correct:22/22 Acc:100.000%\n",
            "\n",
            "Epoch : 30\n",
            "Testing ...\n",
            "[progress:100.0%]time:0.07s Loss:0.00000 Correct:22/22 Acc:100.000%\n",
            "\n",
            "Epoch : 31\n",
            "Testing ...\n",
            "[progress:100.0%]time:0.06s Loss:0.00000 Correct:22/22 Acc:100.000%\n",
            "\n",
            "Epoch : 32\n",
            "Testing ...\n",
            "[progress:100.0%]time:0.06s Loss:0.00000 Correct:22/22 Acc:100.000%\n",
            "\n",
            "Epoch : 33\n",
            "Testing ...\n",
            "[progress:100.0%]time:0.06s Loss:0.00000 Correct:22/22 Acc:100.000%\n",
            "\n",
            "Epoch : 34\n",
            "Testing ...\n",
            "[progress:100.0%]time:0.06s Loss:0.00000 Correct:22/22 Acc:100.000%\n",
            "\n",
            "Epoch : 35\n",
            "Testing ...\n",
            "[progress:100.0%]time:0.06s Loss:0.00000 Correct:22/22 Acc:100.000%\n",
            "\n",
            "Epoch : 36\n",
            "Testing ...\n",
            "[progress:100.0%]time:0.07s Loss:0.00000 Correct:22/22 Acc:100.000%\n",
            "\n",
            "Epoch : 37\n",
            "Testing ...\n",
            "[progress:100.0%]time:0.06s Loss:0.00000 Correct:22/22 Acc:100.000%\n",
            "\n",
            "Epoch : 38\n",
            "Testing ...\n",
            "[progress:100.0%]time:0.06s Loss:0.00000 Correct:22/22 Acc:100.000%\n",
            "\n",
            "Epoch : 39\n",
            "Testing ...\n",
            "[progress:100.0%]time:0.06s Loss:0.00000 Correct:22/22 Acc:100.000%\n",
            "\n",
            "Epoch : 40\n",
            "Testing ...\n",
            "[progress:100.0%]time:0.06s Loss:0.00000 Correct:22/22 Acc:100.000%\n",
            "Learning rate adjusted to 0.0010000000000000002\n"
          ]
        }
      ]
    },
    {
      "cell_type": "code",
      "source": [],
      "metadata": {
        "id": "hzF4Ct1e_HqL"
      },
      "execution_count": null,
      "outputs": []
    },
    {
      "cell_type": "code",
      "source": [],
      "metadata": {
        "id": "5ftrATYHuxCj"
      },
      "execution_count": null,
      "outputs": []
    },
    {
      "cell_type": "code",
      "source": [],
      "metadata": {
        "id": "6HrKUv2Ku6Nv"
      },
      "execution_count": null,
      "outputs": []
    },
    {
      "cell_type": "code",
      "source": [
        "\n"
      ],
      "metadata": {
        "id": "VcI4M98kvAH0"
      },
      "execution_count": null,
      "outputs": []
    },
    {
      "cell_type": "code",
      "source": [],
      "metadata": {
        "id": "kpoLT-Bow7MA"
      },
      "execution_count": null,
      "outputs": []
    },
    {
      "cell_type": "code",
      "source": [
        "st_words = [i for i in set1 if (i.isalpha()) and (i[0] in stuart)]\n",
        "k_words = [i for i in set1 if (i.isalpha()) and (i[0] not in stuart)]\n",
        "st_words\n",
        "\n"
      ],
      "metadata": {
        "colab": {
          "base_uri": "https://localhost:8080/"
        },
        "id": "JHms1KnuxH98",
        "outputId": "5562c518-2bb9-4ed6-ede6-94012f20fa72"
      },
      "execution_count": null,
      "outputs": [
        {
          "output_type": "execute_result",
          "data": {
            "text/plain": [
              "['ANANA', 'AN', 'ANAN', 'ANA', 'A']"
            ]
          },
          "metadata": {},
          "execution_count": 44
        }
      ]
    },
    {
      "cell_type": "code",
      "source": [
        "k_words"
      ],
      "metadata": {
        "colab": {
          "base_uri": "https://localhost:8080/"
        },
        "id": "t6tysn4hx19c",
        "outputId": "4df0a93d-15ef-4de6-b9b8-1c70be2204b6"
      },
      "execution_count": null,
      "outputs": [
        {
          "output_type": "execute_result",
          "data": {
            "text/plain": [
              "['NAN', 'BAN', 'BANAN', 'BANANA', 'NANA', 'NA', 'BA', 'BANA', 'N', 'B']"
            ]
          },
          "metadata": {},
          "execution_count": 45
        }
      ]
    },
    {
      "cell_type": "code",
      "source": [
        "d1 = dict()\n",
        "for i in k_words :\n",
        "  d1[i] = s.count(i) \n",
        "\n",
        "d2 = dict()\n",
        "for i in st_words :\n",
        "  d2[i] = s.count(i) \n",
        "\n",
        "  "
      ],
      "metadata": {
        "id": "fRboci3jy4f2"
      },
      "execution_count": null,
      "outputs": []
    },
    {
      "cell_type": "code",
      "source": [
        "sum(d1.values())"
      ],
      "metadata": {
        "colab": {
          "base_uri": "https://localhost:8080/"
        },
        "id": "LdHwNLJGzTCx",
        "outputId": "3f91db4b-e4ed-4222-ce9e-597730cffc72"
      },
      "execution_count": null,
      "outputs": [
        {
          "output_type": "execute_result",
          "data": {
            "text/plain": [
              "12"
            ]
          },
          "metadata": {},
          "execution_count": 49
        }
      ]
    },
    {
      "cell_type": "code",
      "source": [
        "d2"
      ],
      "metadata": {
        "colab": {
          "base_uri": "https://localhost:8080/"
        },
        "id": "2jhEWIXk2uNS",
        "outputId": "0832190a-b2b7-4c1b-99b3-a2753c3bc0be"
      },
      "execution_count": null,
      "outputs": [
        {
          "output_type": "execute_result",
          "data": {
            "text/plain": [
              "{'ANANA': 1, 'AN': 2, 'ANAN': 1, 'ANA': 1, 'A': 3}"
            ]
          },
          "metadata": {},
          "execution_count": 48
        }
      ]
    },
    {
      "cell_type": "code",
      "source": [
        "def minion_game(string): \n",
        "  s = string \n",
        "  kevin = [\"A\",\"E\",\"I\",\"O\",\"U\"]\n",
        "  set1 = {s[0]}\n",
        "  for i in range(len(s)) :\n",
        "    for j in range(len(s)): \n",
        "      set1.add(s[i:j])\n",
        "      set1.add(s[i:][:j])\n",
        "      set1.add(s[i:][j:])\n",
        "      set1.add(s[j])\n",
        "      set1.add(s[j:i])\n",
        "      \n",
        "\n",
        "  k_words = [i for i in set1 if (i.isalpha()) and (i[0] in kevin)]\n",
        "  st_words = [i for i in set1 if (i.isalpha()) and (i[0] not in kevin)]\n",
        "\n",
        "  d1 = dict()\n",
        "  for i in k_words :\n",
        "    d1[i] = s.count(i) \n",
        "\n",
        "  d2 = dict()\n",
        "  for i in st_words :\n",
        "    d2[i] = s.count(i) \n",
        "\n",
        "  print(d1)\n",
        "  print(d2)\n",
        "\n",
        "  kelvin = sum(d1.values())\n",
        "  stuart = sum(d2.values())\n",
        "  print(kelvin)\n",
        "  if kelvin > stuart : \n",
        "    return f\"Kelvin {kelvin+1}\"\n",
        "  elif stuart == (kelvin + 1) : \n",
        "    return \"Draw\"\n",
        "  else : \n",
        "    return f\"Stuart {stuart}\"\n",
        "\n",
        "minion_game(\"BANANANAAAS\")\n",
        "      "
      ],
      "metadata": {
        "colab": {
          "base_uri": "https://localhost:8080/",
          "height": 107
        },
        "id": "09z-tRuY2wOv",
        "outputId": "05550117-2ed0-4e21-e0d6-0a97807e089e"
      },
      "execution_count": null,
      "outputs": [
        {
          "output_type": "stream",
          "name": "stdout",
          "text": [
            "{'ANANANAA': 1, 'ANANAN': 1, 'AA': 1, 'AS': 1, 'ANANAAAS': 1, 'AAA': 1, 'ANA': 2, 'ANANANA': 1, 'ANAN': 1, 'ANANAA': 1, 'AAAS': 1, 'A': 6, 'ANANANAAAS': 1, 'ANANA': 1, 'AAS': 1, 'ANAA': 1, 'AN': 3, 'ANAAAS': 1, 'ANANANAAA': 1, 'ANAAA': 1, 'ANANAAA': 1}\n",
            "{'NANAN': 1, 'NAAAS': 1, 'N': 3, 'BANANANAAA': 1, 'B': 1, 'BANANAN': 1, 'S': 1, 'BANANANAAAS': 1, 'NANA': 1, 'BANANANA': 1, 'NAN': 1, 'BANANA': 1, 'NANANA': 1, 'NANAAA': 1, 'BANANANAA': 1, 'NANAAAS': 1, 'NANANAA': 1, 'BAN': 1, 'NAA': 1, 'NA': 3, 'BA': 1, 'NANANAAAS': 1, 'NANANAAA': 1, 'BANAN': 1, 'NAAA': 1, 'NANAA': 1, 'BANA': 1}\n",
            "29\n"
          ]
        },
        {
          "output_type": "execute_result",
          "data": {
            "text/plain": [
              "'Stuart 31'"
            ],
            "application/vnd.google.colaboratory.intrinsic+json": {
              "type": "string"
            }
          },
          "metadata": {},
          "execution_count": 50
        }
      ]
    },
    {
      "cell_type": "code",
      "source": [
        "s = \"BANANANAAAS\"\n",
        "l = len(s)\n",
        "i=0\n",
        "dictVow = \"AEIOU\"\n",
        "player1 = 0\n",
        "player2 = 0\n",
        "for i in range(0,l):\n",
        "    if(s[i] in dictVow):\n",
        "        player2 += (l-i)\n",
        "    else:\n",
        "        player1 += (l-i)\n",
        "\n",
        "if(player1 == player2):\n",
        "    print(\"Draw\")\n",
        "elif(player1 > player2):\n",
        "    print(\"Stuart \"+str(player1))\n",
        "else:\n",
        "    print(\"Kevin \"+str(player2))"
      ],
      "metadata": {
        "colab": {
          "base_uri": "https://localhost:8080/"
        },
        "id": "FI5lqq4G8b1r",
        "outputId": "cdf1317f-d2ba-4b24-d93f-5368330e827a"
      },
      "execution_count": null,
      "outputs": [
        {
          "output_type": "stream",
          "name": "stdout",
          "text": [
            "Draw\n"
          ]
        }
      ]
    },
    {
      "cell_type": "code",
      "source": [
        "a = [\"a\",\"b\",\"c\"]\n",
        "b = [\"e\",\"f\",\"g\"]\n",
        "\n",
        "for x, y in zip(a, b):\n",
        "  print(x,y)"
      ],
      "metadata": {
        "id": "4nQ7QyEb8cUX",
        "colab": {
          "base_uri": "https://localhost:8080/"
        },
        "outputId": "ae2e873c-4188-4db6-b308-f91184629ca8"
      },
      "execution_count": null,
      "outputs": [
        {
          "output_type": "stream",
          "name": "stdout",
          "text": [
            "a e\n",
            "b f\n",
            "c g\n"
          ]
        }
      ]
    },
    {
      "cell_type": "code",
      "source": [],
      "metadata": {
        "id": "x4x8z9vWL32_"
      },
      "execution_count": null,
      "outputs": []
    },
    {
      "cell_type": "code",
      "source": [
        "a = [1, 2, 3, 4, 2, 2, 3, 1, 4, 4, 4]\n",
        "print(max(set(a), key = a.count))"
      ],
      "metadata": {
        "colab": {
          "base_uri": "https://localhost:8080/"
        },
        "id": "SiXODmQrL5PM",
        "outputId": "43f3d3fb-799f-46b2-ac79-b874a524afd6"
      },
      "execution_count": null,
      "outputs": [
        {
          "output_type": "stream",
          "name": "stdout",
          "text": [
            "4\n"
          ]
        }
      ]
    },
    {
      "cell_type": "code",
      "source": [
        "dict1={\"a\":5 ,\"b\":8 ,\"c\":10 ,\"d\":6}\n",
        "dict2={v: k for k, v in dict1.items()}\n",
        "print(dict2)"
      ],
      "metadata": {
        "colab": {
          "base_uri": "https://localhost:8080/"
        },
        "id": "wAbRFLn0Mk1h",
        "outputId": "e1b6fd62-6e1f-4d99-fcf4-e7c8edcfbc03"
      },
      "execution_count": null,
      "outputs": [
        {
          "output_type": "stream",
          "name": "stdout",
          "text": [
            "{5: 'a', 8: 'b', 10: 'c', 6: 'd'}\n"
          ]
        }
      ]
    },
    {
      "cell_type": "code",
      "source": [
        "my_list = [1, 2, 3, 4, 5]\n",
        "squared_list = list(map(lambda x: x**2, my_list))\n",
        "even_list = list(filter(lambda x: x % 2 == 0, my_list))\n"
      ],
      "metadata": {
        "id": "mMY0VSPqPK-H"
      },
      "execution_count": null,
      "outputs": []
    },
    {
      "cell_type": "code",
      "source": [
        "list(map(lambda x : x*x,my_list))\n",
        "list(filter(lambda x : x%2 ==0 , my_list))"
      ],
      "metadata": {
        "colab": {
          "base_uri": "https://localhost:8080/"
        },
        "id": "CZYwcSlqPbav",
        "outputId": "cdbc433f-6f02-43fe-f5a2-4d510a892a03"
      },
      "execution_count": null,
      "outputs": [
        {
          "output_type": "execute_result",
          "data": {
            "text/plain": [
              "[2, 4]"
            ]
          },
          "metadata": {},
          "execution_count": 31
        }
      ]
    },
    {
      "cell_type": "code",
      "source": [
        "def prime(n): \n",
        "  for i in range(2,n): \n",
        "    if n%i != 0 : \n",
        "      return True \n",
        "    else : \n",
        "      return False \n",
        "     \n",
        "\n",
        "prime(7)\n",
        "\n"
      ],
      "metadata": {
        "colab": {
          "base_uri": "https://localhost:8080/"
        },
        "id": "DabHO40HPhou",
        "outputId": "afbc6fd2-50db-4d62-d677-ca5c18ae2700"
      },
      "execution_count": null,
      "outputs": [
        {
          "output_type": "execute_result",
          "data": {
            "text/plain": [
              "True"
            ]
          },
          "metadata": {},
          "execution_count": 43
        }
      ]
    },
    {
      "cell_type": "code",
      "source": [
        "{**dict1,**dict2}"
      ],
      "metadata": {
        "colab": {
          "base_uri": "https://localhost:8080/"
        },
        "id": "rUFQRaJVPy8O",
        "outputId": "0c7e380e-813d-4313-fcf7-9c29c6d22a81"
      },
      "execution_count": null,
      "outputs": [
        {
          "output_type": "execute_result",
          "data": {
            "text/plain": [
              "{'a': 5, 'b': 8, 'c': 10, 'd': 6, 5: 'a', 8: 'b', 10: 'c', 6: 'd'}"
            ]
          },
          "metadata": {},
          "execution_count": 46
        }
      ]
    },
    {
      "cell_type": "code",
      "source": [
        "inp = input()"
      ],
      "metadata": {
        "id": "nk9l2zlTRZl-",
        "colab": {
          "base_uri": "https://localhost:8080/"
        },
        "outputId": "a9914ccc-bad8-48e9-c9ca-bfea910b7689"
      },
      "execution_count": null,
      "outputs": [
        {
          "name": "stdout",
          "output_type": "stream",
          "text": [
            "3 3 4 3\n"
          ]
        }
      ]
    },
    {
      "cell_type": "code",
      "source": [
        "x = int(inp.split(\" \")[0])\n",
        "y = int(inp.split(\" \")[1])\n",
        "a = int(inp.split(\" \")[2])\n",
        "b = int(inp.split(\" \")[3])\n",
        "\n",
        "def condition(x,y,a,b): \n",
        "  if (x,y>=1 and x,y<=10**5) and (a,b >=0 and x,y<=10**9) :\n",
        "    return True \n",
        "\n",
        "  else : \n",
        "    return False \n",
        "\n",
        "condition(x,y,a,b)"
      ],
      "metadata": {
        "colab": {
          "base_uri": "https://localhost:8080/"
        },
        "id": "DlOKfnyCHnBx",
        "outputId": "4441eb0b-eb75-4c6c-a9f0-04d161dddba8"
      },
      "execution_count": null,
      "outputs": [
        {
          "output_type": "execute_result",
          "data": {
            "text/plain": [
              "True"
            ]
          },
          "metadata": {},
          "execution_count": 22
        }
      ]
    },
    {
      "cell_type": "code",
      "source": [
        "d = {\"a\":42 , \"b\":10 , \"c\":240}"
      ],
      "metadata": {
        "id": "UCXxmtbGHQ-w"
      },
      "execution_count": null,
      "outputs": []
    },
    {
      "cell_type": "code",
      "source": [
        "l = [1,2,3,4,5,2,2,2]"
      ],
      "metadata": {
        "id": "Hst60Zx8QnCh"
      },
      "execution_count": null,
      "outputs": []
    },
    {
      "cell_type": "code",
      "source": [
        "d.get"
      ],
      "metadata": {
        "colab": {
          "base_uri": "https://localhost:8080/"
        },
        "id": "7e95xpNRQcvw",
        "outputId": "b93e08b8-23b4-48d4-9187-16e5c759e947"
      },
      "execution_count": null,
      "outputs": [
        {
          "output_type": "execute_result",
          "data": {
            "text/plain": [
              "<function dict.get(key, default=None, /)>"
            ]
          },
          "metadata": {},
          "execution_count": 32
        }
      ]
    },
    {
      "cell_type": "code",
      "source": [
        "max(d,key=d.get)"
      ],
      "metadata": {
        "colab": {
          "base_uri": "https://localhost:8080/",
          "height": 35
        },
        "id": "hwFTk65hKn_C",
        "outputId": "0c64fd49-04f0-4f00-e1f3-0bd7b3e55c5c"
      },
      "execution_count": null,
      "outputs": [
        {
          "output_type": "execute_result",
          "data": {
            "text/plain": [
              "'c'"
            ],
            "application/vnd.google.colaboratory.intrinsic+json": {
              "type": "string"
            }
          },
          "metadata": {},
          "execution_count": 34
        }
      ]
    },
    {
      "cell_type": "code",
      "source": [
        "l.count"
      ],
      "metadata": {
        "colab": {
          "base_uri": "https://localhost:8080/"
        },
        "id": "-8uaJjt3Qw4G",
        "outputId": "c9c76b71-68ee-4f0c-b3a2-621c1544aae2"
      },
      "execution_count": null,
      "outputs": [
        {
          "output_type": "execute_result",
          "data": {
            "text/plain": [
              "<function list.count(value, /)>"
            ]
          },
          "metadata": {},
          "execution_count": 37
        }
      ]
    },
    {
      "cell_type": "code",
      "source": [
        "max(l,key=l.count)"
      ],
      "metadata": {
        "colab": {
          "base_uri": "https://localhost:8080/"
        },
        "id": "SnlZ5yoIPiO-",
        "outputId": "eeb1b918-4187-4b61-dfe4-f44f2096cd84"
      },
      "execution_count": null,
      "outputs": [
        {
          "output_type": "execute_result",
          "data": {
            "text/plain": [
              "2"
            ]
          },
          "metadata": {},
          "execution_count": 39
        }
      ]
    },
    {
      "cell_type": "code",
      "source": [
        "s = 0 \n",
        "d1 = {}\n",
        "for i in l : \n",
        "  d1[i] = l.count(i)\n",
        "\n",
        "d1  \n"
      ],
      "metadata": {
        "colab": {
          "base_uri": "https://localhost:8080/"
        },
        "id": "9HYOZPtaWey6",
        "outputId": "13c5449e-6b87-45df-a410-31143f76685b"
      },
      "execution_count": null,
      "outputs": [
        {
          "output_type": "execute_result",
          "data": {
            "text/plain": [
              "{1: 1, 2: 4, 3: 1, 4: 1, 5: 1}"
            ]
          },
          "metadata": {},
          "execution_count": 42
        }
      ]
    },
    {
      "cell_type": "code",
      "source": [
        "max(d1.values())\n",
        "\n",
        "  "
      ],
      "metadata": {
        "colab": {
          "base_uri": "https://localhost:8080/"
        },
        "id": "o47C_hOYWn8m",
        "outputId": "5427ef62-4962-4146-dab9-f5360634ac6d"
      },
      "execution_count": null,
      "outputs": [
        {
          "output_type": "execute_result",
          "data": {
            "text/plain": [
              "4"
            ]
          },
          "metadata": {},
          "execution_count": 44
        }
      ]
    },
    {
      "cell_type": "code",
      "source": [
        "for i,j in d1.items(): \n",
        "  if d1[i] == max(d1.values()): \n",
        "    print(\"Key Found : \",i)"
      ],
      "metadata": {
        "colab": {
          "base_uri": "https://localhost:8080/"
        },
        "id": "Zbf87_LyXxHI",
        "outputId": "6f635507-503e-4a5f-eacd-2a0361b2316e"
      },
      "execution_count": null,
      "outputs": [
        {
          "output_type": "stream",
          "name": "stdout",
          "text": [
            "Key Found :  2\n"
          ]
        }
      ]
    },
    {
      "cell_type": "code",
      "source": [],
      "metadata": {
        "colab": {
          "base_uri": "https://localhost:8080/"
        },
        "id": "WEPuIYdmX__o",
        "outputId": "dcf61e5c-1d14-4c6f-d498-c0385d6c7252"
      },
      "execution_count": null,
      "outputs": [
        {
          "output_type": "execute_result",
          "data": {
            "text/plain": [
              "2"
            ]
          },
          "metadata": {},
          "execution_count": 48
        }
      ]
    },
    {
      "cell_type": "code",
      "source": [],
      "metadata": {
        "id": "iV0GraVuYM0V"
      },
      "execution_count": null,
      "outputs": []
    }
  ]
}